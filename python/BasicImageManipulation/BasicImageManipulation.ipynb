version https://git-lfs.github.com/spec/v1
oid sha256:a8f06c2f9ec2267f1500e5d26602f9b144c2cad0e6fd173a6d4fa7b5b3487a52
size 1736937
