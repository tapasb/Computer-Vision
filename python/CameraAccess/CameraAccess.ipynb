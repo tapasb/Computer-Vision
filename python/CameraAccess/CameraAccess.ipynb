{
 "cells": [
  {
   "cell_type": "code",
   "execution_count": 7,
   "id": "f2462741-2463-445b-bd21-6d126fd4dd85",
   "metadata": {},
   "outputs": [
    {
     "name": "stdout",
     "output_type": "stream",
     "text": [
      "no frame\n"
     ]
    }
   ],
   "source": [
    "import cv2\n",
    "import sys\n",
    "\n",
    "s = 0\n",
    "if len(sys.argv) > 1:\n",
    "    s = sys.argv[1]\n",
    "\n",
    "source = cv2.VideoCapture(s)\n",
    "win_name = 'Camera Preview'\n",
    "cv2.namedWindow(win_name, cv2.WINDOW_NORMAL)\n",
    "\n",
    "while cv2.waitKey(1) != 27:  # Escape\n",
    "    has_frame, frame = source.read()\n",
    "    if not has_frame:\n",
    "        print(\"no frame\")\n",
    "        break\n",
    "    cv2.imshow(win_name, frame)\n",
    "\n",
    "source.release()\n",
    "cv2.destroyWindow(win_name)"
   ]
  }
 ],
 "metadata": {
  "kernelspec": {
   "display_name": "opencv-env",
   "language": "python",
   "name": "opencv-env"
  },
  "language_info": {
   "codemirror_mode": {
    "name": "ipython",
    "version": 3
   },
   "file_extension": ".py",
   "mimetype": "text/x-python",
   "name": "python",
   "nbconvert_exporter": "python",
   "pygments_lexer": "ipython3",
   "version": "3.12.8"
  }
 },
 "nbformat": 4,
 "nbformat_minor": 5
}
