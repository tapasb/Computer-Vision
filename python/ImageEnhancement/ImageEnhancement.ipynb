version https://git-lfs.github.com/spec/v1
oid sha256:b41d19ddc664db5ab34221fdd1e109d825eef5e98eb6f01ab45abe401deac6df
size 3511441
